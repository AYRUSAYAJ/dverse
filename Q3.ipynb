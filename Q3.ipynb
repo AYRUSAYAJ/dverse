{
 "cells": [
  {
   "cell_type": "code",
   "execution_count": 2,
   "metadata": {},
   "outputs": [
    {
     "name": "stdout",
     "output_type": "stream",
     "text": [
      "Heart Disease Chatbot is ready! Type 'exit' to stop.\n",
      "Chatbot: Heart disease can be caused by high blood pressure, smoking, diabetes, and lack of exercise.\n",
      "Chatbot: Stay healthy! Goodbye!\n"
     ]
    }
   ],
   "source": [
    "import pandas as pd\n",
    "import numpy as np\n",
    "from sklearn.feature_extraction.text import TfidfVectorizer\n",
    "from sklearn.metrics.pairwise import cosine_similarity\n",
    "\n",
    "# Define a dataset containing heart disease-related FAQs\n",
    "# Each entry includes a question and its corresponding answer\n",
    "faq_data = pd.DataFrame({\n",
    "    \"Question\": [\n",
    "        \"What are the symptoms of heart disease?\",\n",
    "        \"What causes heart disease?\",\n",
    "        \"How can heart disease be prevented?\",\n",
    "        \"What are the treatment options for heart disease?\",\n",
    "        \"What are the risk factors for heart disease?\"\n",
    "    ],\n",
    "    \"Answer\": [\n",
    "        \"Common symptoms include chest pain, shortness of breath, and fatigue.\",\n",
    "        \"Heart disease can be caused by high blood pressure, smoking, diabetes, and lack of exercise.\",\n",
    "        \"You can prevent heart disease by maintaining a healthy diet, exercising regularly, and avoiding smoking.\",\n",
    "        \"Treatment options include medications, lifestyle changes, and in severe cases, surgery like angioplasty.\",\n",
    "        \"Risk factors include high cholesterol, obesity, stress, and a family history of heart disease.\"\n",
    "    ]\n",
    "})\n",
    "\n",
    "# Initialize a TF-IDF Vectorizer to convert text-based questions into numerical representations\n",
    "vectorizer = TfidfVectorizer()\n",
    "faq_vectors = vectorizer.fit_transform(faq_data['Question'])\n",
    "\n",
    "def get_answer(user_query):\n",
    "    \"\"\"\n",
    "    Process user input, compare it with stored questions, and return the most relevant answer.\n",
    "    \n",
    "    Parameters:\n",
    "    user_query (str): The question asked by the user.\n",
    "    \n",
    "    Returns:\n",
    "    str: The best-matching answer from the dataset or a fallback response.\n",
    "    \"\"\"\n",
    "    # Transform the user query into a TF-IDF vector\n",
    "    user_vector = vectorizer.transform([user_query])\n",
    "    \n",
    "    # Compute cosine similarity between user input and stored questions\n",
    "    similarities = cosine_similarity(user_vector, faq_vectors).flatten()\n",
    "    \n",
    "    # Find the best matching question based on similarity scores\n",
    "    best_match = np.argmax(similarities)\n",
    "    \n",
    "    # Return the most relevant answer if similarity exceeds a predefined threshold\n",
    "    if similarities[best_match] > 0.2:  # Confidence threshold\n",
    "        return faq_data.iloc[best_match]['Answer']\n",
    "    else:\n",
    "        return \"I'm sorry, I don't have an answer for that. Please consult a medical professional.\"\n",
    "\n",
    "# Start the chatbot loop for real-time interaction\n",
    "print(\"Heart Disease Chatbot is ready! Type 'exit' to stop.\")\n",
    "while True:\n",
    "    # Prompt the user for a query\n",
    "    user_input = input(\"You: \")\n",
    "    \n",
    "    # Exit condition for the chatbot\n",
    "    if user_input.lower() == 'exit':\n",
    "        print(\"Chatbot: Stay healthy! Goodbye!\")\n",
    "        break\n",
    "    \n",
    "    # Retrieve and display the most relevant answer\n",
    "    response = get_answer(user_input)\n",
    "    print(f\"Chatbot: {response}\")\n"
   ]
  }
 ],
 "metadata": {
  "kernelspec": {
   "display_name": "Python 3",
   "language": "python",
   "name": "python3"
  },
  "language_info": {
   "codemirror_mode": {
    "name": "ipython",
    "version": 3
   },
   "file_extension": ".py",
   "mimetype": "text/x-python",
   "name": "python",
   "nbconvert_exporter": "python",
   "pygments_lexer": "ipython3",
   "version": "3.11.5"
  }
 },
 "nbformat": 4,
 "nbformat_minor": 2
}
